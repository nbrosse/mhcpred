{
 "cells": [
  {
   "cell_type": "markdown",
   "source": "# Exploratory Data Analysis",
   "metadata": {
    "collapsed": false
   }
  },
  {
   "cell_type": "code",
   "metadata": {
    "collapsed": true,
    "ExecuteTime": {
     "end_time": "2024-08-11T12:16:17.776267Z",
     "start_time": "2024-08-11T12:16:09.311891Z"
    }
   },
   "source": [
    "from mhcpred.data import get_train_data, get_test_data\n",
    "\n",
    "df_train = get_train_data()\n",
    "df_test = get_test_data()"
   ],
   "outputs": [],
   "execution_count": 1
  },
  {
   "metadata": {},
   "cell_type": "markdown",
   "source": "Let first print an excerpt of the data."
  },
  {
   "metadata": {
    "ExecuteTime": {
     "end_time": "2024-08-11T12:16:29.456890Z",
     "start_time": "2024-08-11T12:16:29.452430Z"
    }
   },
   "cell_type": "code",
   "source": "df_train.head()",
   "outputs": [
    {
     "data": {
      "text/plain": [
       "       peptide       allele   hit  fold\n",
       "0   YFPLAPFNQL  HLA-C*14:02  True     0\n",
       "1    KESKINQVF  HLA-B*44:02  True     0\n",
       "2  QPHDPLVPLSA  HLA-B*54:01  True     0\n",
       "3  RTIADSLINSF  HLA-B*57:03  True     0\n",
       "4    EEKTIIKKL  HLA-B*44:03  True     0"
      ],
      "text/html": [
       "<div>\n",
       "<style scoped>\n",
       "    .dataframe tbody tr th:only-of-type {\n",
       "        vertical-align: middle;\n",
       "    }\n",
       "\n",
       "    .dataframe tbody tr th {\n",
       "        vertical-align: top;\n",
       "    }\n",
       "\n",
       "    .dataframe thead th {\n",
       "        text-align: right;\n",
       "    }\n",
       "</style>\n",
       "<table border=\"1\" class=\"dataframe\">\n",
       "  <thead>\n",
       "    <tr style=\"text-align: right;\">\n",
       "      <th></th>\n",
       "      <th>peptide</th>\n",
       "      <th>allele</th>\n",
       "      <th>hit</th>\n",
       "      <th>fold</th>\n",
       "    </tr>\n",
       "  </thead>\n",
       "  <tbody>\n",
       "    <tr>\n",
       "      <th>0</th>\n",
       "      <td>YFPLAPFNQL</td>\n",
       "      <td>HLA-C*14:02</td>\n",
       "      <td>True</td>\n",
       "      <td>0</td>\n",
       "    </tr>\n",
       "    <tr>\n",
       "      <th>1</th>\n",
       "      <td>KESKINQVF</td>\n",
       "      <td>HLA-B*44:02</td>\n",
       "      <td>True</td>\n",
       "      <td>0</td>\n",
       "    </tr>\n",
       "    <tr>\n",
       "      <th>2</th>\n",
       "      <td>QPHDPLVPLSA</td>\n",
       "      <td>HLA-B*54:01</td>\n",
       "      <td>True</td>\n",
       "      <td>0</td>\n",
       "    </tr>\n",
       "    <tr>\n",
       "      <th>3</th>\n",
       "      <td>RTIADSLINSF</td>\n",
       "      <td>HLA-B*57:03</td>\n",
       "      <td>True</td>\n",
       "      <td>0</td>\n",
       "    </tr>\n",
       "    <tr>\n",
       "      <th>4</th>\n",
       "      <td>EEKTIIKKL</td>\n",
       "      <td>HLA-B*44:03</td>\n",
       "      <td>True</td>\n",
       "      <td>0</td>\n",
       "    </tr>\n",
       "  </tbody>\n",
       "</table>\n",
       "</div>"
      ]
     },
     "execution_count": 3,
     "metadata": {},
     "output_type": "execute_result"
    }
   ],
   "execution_count": 3
  },
  {
   "metadata": {},
   "cell_type": "markdown",
   "source": [
    "Note that the peptide length varies. Usually, for MHC I, the length range goes from 8 to 14 amino acids. For the allele name, please refer to https://hla.alleles.org/nomenclature/naming.html.\n",
    "\n",
    "We now study the repartition of the training examples by allele."
   ]
  },
  {
   "cell_type": "code",
   "source": [
    "df_train[[\"allele\"]].value_counts()"
   ],
   "metadata": {
    "collapsed": false,
    "ExecuteTime": {
     "end_time": "2024-08-11T12:16:19.780379Z",
     "start_time": "2024-08-11T12:16:19.648768Z"
    }
   },
   "outputs": [
    {
     "data": {
      "text/plain": [
       "allele     \n",
       "HLA-A*02:01    265252\n",
       "HLA-B*07:02    201038\n",
       "HLA-B*57:01    184773\n",
       "HLA-A*29:02    181136\n",
       "HLA-B*40:02    145817\n",
       "                ...  \n",
       "HLA-A*69:01        12\n",
       "HLA-A*25:01         6\n",
       "HLA-A*26:02         6\n",
       "HLA-A*02:06         6\n",
       "HLA-A*26:03         6\n",
       "Name: count, Length: 130, dtype: int64"
      ]
     },
     "execution_count": 2,
     "metadata": {},
     "output_type": "execute_result"
    }
   ],
   "execution_count": 2
  },
  {
   "metadata": {},
   "cell_type": "markdown",
   "source": "Same for test."
  },
  {
   "cell_type": "code",
   "source": [
    "df_test[\"allele\"].value_counts()"
   ],
   "metadata": {
    "collapsed": false,
    "ExecuteTime": {
     "end_time": "2024-08-09T10:30:37.989282Z",
     "start_time": "2024-08-09T10:30:37.946855Z"
    }
   },
   "outputs": [
    {
     "data": {
      "text/plain": [
       "allele\n",
       "HLA-A*02:02    77053\n",
       "HLA-A*02:06    54510\n",
       "HLA-A*02:11    48445\n",
       "HLA-B*53:01    46991\n",
       "HLA-B*15:17    45917\n",
       "HLA-A*02:05    45136\n",
       "HLA-B*15:03    44968\n",
       "HLA-A*33:01    43333\n",
       "HLA-A*66:01    41538\n",
       "HLA-C*12:03    36448\n",
       "HLA-C*03:03    35568\n",
       "HLA-A*11:01    33424\n",
       "HLA-A*30:02    33180\n",
       "HLA-C*08:02    32416\n",
       "HLA-A*23:01    30467\n",
       "HLA-A*32:01    28036\n",
       "HLA-B*40:02    23768\n",
       "HLA-B*14:02    21601\n",
       "HLA-B*37:01    20048\n",
       "HLA-B*40:01    18908\n",
       "HLA-B*45:01    18750\n",
       "HLA-B*18:01    18284\n",
       "HLA-B*58:01    17946\n",
       "HLA-B*15:02    16702\n",
       "HLA-B*15:01    16624\n",
       "HLA-A*30:01    15837\n",
       "HLA-C*07:02    15293\n",
       "HLA-B*46:01    14015\n",
       "HLA-B*38:01     9509\n",
       "HLA-B*35:03     8275\n",
       "HLA-A*26:01     7730\n",
       "HLA-C*05:01     7033\n",
       "HLA-A*25:01     6906\n",
       "HLA-A*68:01     5648\n",
       "HLA-B*08:01     3365\n",
       "HLA-B*07:02     2469\n",
       "Name: count, dtype: int64"
      ]
     },
     "execution_count": 3,
     "metadata": {},
     "output_type": "execute_result"
    }
   ],
   "execution_count": 3
  },
  {
   "cell_type": "code",
   "source": [
    "df_train.groupby(\"allele\").hit.sum()"
   ],
   "metadata": {
    "collapsed": false,
    "ExecuteTime": {
     "end_time": "2024-08-09T10:30:40.333681Z",
     "start_time": "2024-08-09T10:30:40.234506Z"
    }
   },
   "outputs": [
    {
     "data": {
      "text/plain": [
       "allele\n",
       "HLA-A*01:01     7156\n",
       "HLA-A*01:03        7\n",
       "HLA-A*02:01    13025\n",
       "HLA-A*02:03     1873\n",
       "HLA-A*02:04     3155\n",
       "               ...  \n",
       "HLA-C*12:04        3\n",
       "HLA-C*14:02     2441\n",
       "HLA-C*15:02     1873\n",
       "HLA-C*16:01     2970\n",
       "HLA-C*17:01      602\n",
       "Name: hit, Length: 130, dtype: int64"
      ]
     },
     "execution_count": 4,
     "metadata": {},
     "output_type": "execute_result"
    }
   ],
   "execution_count": 4
  },
  {
   "cell_type": "code",
   "source": [
    "df_train.hit.sum()"
   ],
   "metadata": {
    "collapsed": false,
    "ExecuteTime": {
     "end_time": "2024-08-09T10:31:25.459224Z",
     "start_time": "2024-08-09T10:31:25.454189Z"
    }
   },
   "outputs": [
    {
     "data": {
      "text/plain": [
       "197547"
      ]
     },
     "execution_count": 5,
     "metadata": {},
     "output_type": "execute_result"
    }
   ],
   "execution_count": 5
  },
  {
   "cell_type": "code",
   "source": [
    "len(df_train)"
   ],
   "metadata": {
    "collapsed": false,
    "ExecuteTime": {
     "end_time": "2024-08-09T10:31:26.243728Z",
     "start_time": "2024-08-09T10:31:26.239645Z"
    }
   },
   "outputs": [
    {
     "data": {
      "text/plain": [
       "3679405"
      ]
     },
     "execution_count": 6,
     "metadata": {},
     "output_type": "execute_result"
    }
   ],
   "execution_count": 6
  },
  {
   "cell_type": "code",
   "source": [
    "df_train.hit.sum() / len(df_train)"
   ],
   "metadata": {
    "collapsed": false,
    "ExecuteTime": {
     "end_time": "2024-08-09T10:31:26.899073Z",
     "start_time": "2024-08-09T10:31:26.894631Z"
    }
   },
   "outputs": [
    {
     "data": {
      "text/plain": [
       "0.05368993084479692"
      ]
     },
     "execution_count": 7,
     "metadata": {},
     "output_type": "execute_result"
    }
   ],
   "execution_count": 7
  },
  {
   "cell_type": "code",
   "source": [
    "df_test.groupby(\"allele\").hit.sum()"
   ],
   "metadata": {
    "collapsed": false,
    "ExecuteTime": {
     "end_time": "2024-08-09T10:31:28.858719Z",
     "start_time": "2024-08-09T10:31:28.823358Z"
    }
   },
   "outputs": [
    {
     "data": {
      "text/plain": [
       "allele\n",
       "HLA-A*02:02    3063\n",
       "HLA-A*02:05    2016\n",
       "HLA-A*02:06    1975\n",
       "HLA-A*02:11    2035\n",
       "HLA-A*11:01    2309\n",
       "HLA-A*23:01    1697\n",
       "HLA-A*25:01     396\n",
       "HLA-A*26:01     555\n",
       "HLA-A*30:01     892\n",
       "HLA-A*30:02    2415\n",
       "HLA-A*32:01    1436\n",
       "HLA-A*33:01    2138\n",
       "HLA-A*66:01    1988\n",
       "HLA-A*68:01     433\n",
       "HLA-B*07:02     159\n",
       "HLA-B*08:01     180\n",
       "HLA-B*14:02    1056\n",
       "HLA-B*15:01     769\n",
       "HLA-B*15:02     637\n",
       "HLA-B*15:03    1953\n",
       "HLA-B*15:17    1712\n",
       "HLA-B*18:01     784\n",
       "HLA-B*35:03     330\n",
       "HLA-B*37:01    1253\n",
       "HLA-B*38:01     619\n",
       "HLA-B*40:01    1268\n",
       "HLA-B*40:02    1333\n",
       "HLA-B*45:01     760\n",
       "HLA-B*46:01     575\n",
       "HLA-B*53:01    2016\n",
       "HLA-B*58:01     866\n",
       "HLA-C*03:03    2003\n",
       "HLA-C*05:01     383\n",
       "HLA-C*07:02     593\n",
       "HLA-C*08:02    1546\n",
       "HLA-C*12:03    1273\n",
       "Name: hit, dtype: int64"
      ]
     },
     "execution_count": 8,
     "metadata": {},
     "output_type": "execute_result"
    }
   ],
   "execution_count": 8
  },
  {
   "cell_type": "code",
   "source": [
    "df_test.hit.sum() / len(df_test)"
   ],
   "metadata": {
    "collapsed": false,
    "ExecuteTime": {
     "end_time": "2024-08-09T10:31:30.310217Z",
     "start_time": "2024-08-09T10:31:30.305648Z"
    }
   },
   "outputs": [
    {
     "data": {
      "text/plain": [
       "0.04800130213150049"
      ]
     },
     "execution_count": 9,
     "metadata": {},
     "output_type": "execute_result"
    }
   ],
   "execution_count": 9
  },
  {
   "cell_type": "code",
   "source": [
    "set(df_test.allele.unique()) - set(df_train.allele.unique())"
   ],
   "metadata": {
    "collapsed": false,
    "ExecuteTime": {
     "end_time": "2024-08-09T10:31:31.585964Z",
     "start_time": "2024-08-09T10:31:31.483022Z"
    }
   },
   "outputs": [
    {
     "data": {
      "text/plain": [
       "{'HLA-A*02:02', 'HLA-A*02:11', 'HLA-A*33:01', 'HLA-B*53:01'}"
      ]
     },
     "execution_count": 10,
     "metadata": {},
     "output_type": "execute_result"
    }
   ],
   "execution_count": 10
  },
  {
   "cell_type": "markdown",
   "source": [
    "We can draw the following conclusions from this analysis:\n",
    "\n",
    "- The dataset is unbalanced between positive and negative examples.\n",
    "- Number of peptides is very different according to the allele considered.\n",
    "- Some alleles are present in the test dataset, and absent from the training dataset."
   ],
   "metadata": {
    "collapsed": false
   }
  },
  {
   "metadata": {},
   "cell_type": "code",
   "outputs": [],
   "execution_count": null,
   "source": ""
  }
 ],
 "metadata": {
  "kernelspec": {
   "display_name": "Python 3",
   "language": "python",
   "name": "python3"
  },
  "language_info": {
   "codemirror_mode": {
    "name": "ipython",
    "version": 2
   },
   "file_extension": ".py",
   "mimetype": "text/x-python",
   "name": "python",
   "nbconvert_exporter": "python",
   "pygments_lexer": "ipython2",
   "version": "2.7.6"
  }
 },
 "nbformat": 4,
 "nbformat_minor": 0
}
