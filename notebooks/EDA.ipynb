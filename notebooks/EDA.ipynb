{
 "cells": [
  {
   "cell_type": "code",
   "execution_count": 1,
   "metadata": {
    "collapsed": true
   },
   "outputs": [],
   "source": [
    "from mhcpred.data import get_train_data, get_test_data\n",
    "\n",
    "df_train = get_train_data()\n",
    "df_test = get_test_data()"
   ]
  },
  {
   "cell_type": "code",
   "execution_count": 3,
   "outputs": [
    {
     "data": {
      "text/plain": "allele     \nHLA-A*02:01    265252\nHLA-B*07:02    201038\nHLA-B*57:01    184773\nHLA-A*29:02    181136\nHLA-B*40:02    145817\n                ...  \nHLA-A*69:01        12\nHLA-A*25:01         6\nHLA-A*26:02         6\nHLA-A*02:06         6\nHLA-A*26:03         6\nName: count, Length: 130, dtype: int64"
     },
     "execution_count": 3,
     "metadata": {},
     "output_type": "execute_result"
    }
   ],
   "source": [
    "df_train[[\"allele\"]].value_counts()"
   ],
   "metadata": {
    "collapsed": false
   }
  },
  {
   "cell_type": "code",
   "execution_count": 4,
   "outputs": [
    {
     "data": {
      "text/plain": "allele\nHLA-A*02:02    77053\nHLA-A*02:06    54510\nHLA-A*02:11    48445\nHLA-B*53:01    46991\nHLA-B*15:17    45917\nHLA-A*02:05    45136\nHLA-B*15:03    44968\nHLA-A*33:01    43333\nHLA-A*66:01    41538\nHLA-C*12:03    36448\nHLA-C*03:03    35568\nHLA-A*11:01    33424\nHLA-A*30:02    33180\nHLA-C*08:02    32416\nHLA-A*23:01    30467\nHLA-A*32:01    28036\nHLA-B*40:02    23768\nHLA-B*14:02    21601\nHLA-B*37:01    20048\nHLA-B*40:01    18908\nHLA-B*45:01    18750\nHLA-B*18:01    18284\nHLA-B*58:01    17946\nHLA-B*15:02    16702\nHLA-B*15:01    16624\nHLA-A*30:01    15837\nHLA-C*07:02    15293\nHLA-B*46:01    14015\nHLA-B*38:01     9509\nHLA-B*35:03     8275\nHLA-A*26:01     7730\nHLA-C*05:01     7033\nHLA-A*25:01     6906\nHLA-A*68:01     5648\nHLA-B*08:01     3365\nHLA-B*07:02     2469\nName: count, dtype: int64"
     },
     "execution_count": 4,
     "metadata": {},
     "output_type": "execute_result"
    }
   ],
   "source": [
    "df_test[\"allele\"].value_counts()"
   ],
   "metadata": {
    "collapsed": false
   }
  },
  {
   "cell_type": "code",
   "execution_count": 5,
   "outputs": [
    {
     "data": {
      "text/plain": "allele\nHLA-A*01:01     7156\nHLA-A*01:03        7\nHLA-A*02:01    13025\nHLA-A*02:03     1873\nHLA-A*02:04     3155\n               ...  \nHLA-C*12:04        3\nHLA-C*14:02     2441\nHLA-C*15:02     1873\nHLA-C*16:01     2970\nHLA-C*17:01      602\nName: hit, Length: 130, dtype: int64"
     },
     "execution_count": 5,
     "metadata": {},
     "output_type": "execute_result"
    }
   ],
   "source": [
    "df_train.groupby(\"allele\").hit.sum()"
   ],
   "metadata": {
    "collapsed": false
   }
  },
  {
   "cell_type": "code",
   "execution_count": 6,
   "outputs": [
    {
     "data": {
      "text/plain": "197547"
     },
     "execution_count": 6,
     "metadata": {},
     "output_type": "execute_result"
    }
   ],
   "source": [
    "df_train.hit.sum()"
   ],
   "metadata": {
    "collapsed": false
   }
  },
  {
   "cell_type": "code",
   "execution_count": 7,
   "outputs": [
    {
     "data": {
      "text/plain": "3679405"
     },
     "execution_count": 7,
     "metadata": {},
     "output_type": "execute_result"
    }
   ],
   "source": [
    "len(df_train)"
   ],
   "metadata": {
    "collapsed": false
   }
  },
  {
   "cell_type": "code",
   "execution_count": 8,
   "outputs": [
    {
     "data": {
      "text/plain": "0.05368993084479692"
     },
     "execution_count": 8,
     "metadata": {},
     "output_type": "execute_result"
    }
   ],
   "source": [
    "df_train.hit.sum() / len(df_train)"
   ],
   "metadata": {
    "collapsed": false
   }
  },
  {
   "cell_type": "code",
   "execution_count": 9,
   "outputs": [
    {
     "data": {
      "text/plain": "allele\nHLA-A*02:02    3063\nHLA-A*02:05    2016\nHLA-A*02:06    1975\nHLA-A*02:11    2035\nHLA-A*11:01    2309\nHLA-A*23:01    1697\nHLA-A*25:01     396\nHLA-A*26:01     555\nHLA-A*30:01     892\nHLA-A*30:02    2415\nHLA-A*32:01    1436\nHLA-A*33:01    2138\nHLA-A*66:01    1988\nHLA-A*68:01     433\nHLA-B*07:02     159\nHLA-B*08:01     180\nHLA-B*14:02    1056\nHLA-B*15:01     769\nHLA-B*15:02     637\nHLA-B*15:03    1953\nHLA-B*15:17    1712\nHLA-B*18:01     784\nHLA-B*35:03     330\nHLA-B*37:01    1253\nHLA-B*38:01     619\nHLA-B*40:01    1268\nHLA-B*40:02    1333\nHLA-B*45:01     760\nHLA-B*46:01     575\nHLA-B*53:01    2016\nHLA-B*58:01     866\nHLA-C*03:03    2003\nHLA-C*05:01     383\nHLA-C*07:02     593\nHLA-C*08:02    1546\nHLA-C*12:03    1273\nName: hit, dtype: int64"
     },
     "execution_count": 9,
     "metadata": {},
     "output_type": "execute_result"
    }
   ],
   "source": [
    "df_test.groupby(\"allele\").hit.sum()"
   ],
   "metadata": {
    "collapsed": false
   }
  },
  {
   "cell_type": "code",
   "execution_count": 10,
   "outputs": [
    {
     "data": {
      "text/plain": "0.04800130213150049"
     },
     "execution_count": 10,
     "metadata": {},
     "output_type": "execute_result"
    }
   ],
   "source": [
    "df_test.hit.sum() / len(df_test)"
   ],
   "metadata": {
    "collapsed": false
   }
  },
  {
   "cell_type": "code",
   "execution_count": 11,
   "outputs": [
    {
     "data": {
      "text/plain": "{'HLA-A*02:02', 'HLA-A*02:11', 'HLA-A*33:01', 'HLA-B*53:01'}"
     },
     "execution_count": 11,
     "metadata": {},
     "output_type": "execute_result"
    }
   ],
   "source": [
    "set(df_test.allele.unique()) - set(df_train.allele.unique())"
   ],
   "metadata": {
    "collapsed": false
   }
  },
  {
   "cell_type": "markdown",
   "source": [
    "# Conclusion of EDA\n",
    "\n",
    "The dataset is unbalanced between positive and negative examples.\n",
    "Number of peptides is very different according to the allele considered.\n",
    "\n",
    "Some alleles are present in the test dataset, and absent from the training dataset."
   ],
   "metadata": {
    "collapsed": false
   }
  },
  {
   "cell_type": "code",
   "execution_count": null,
   "outputs": [],
   "source": [],
   "metadata": {
    "collapsed": false,
    "pycharm": {
     "is_executing": true
    }
   }
  },
  {
   "cell_type": "code",
   "execution_count": 11,
   "outputs": [],
   "source": [],
   "metadata": {
    "collapsed": false
   }
  }
 ],
 "metadata": {
  "kernelspec": {
   "display_name": "Python 3",
   "language": "python",
   "name": "python3"
  },
  "language_info": {
   "codemirror_mode": {
    "name": "ipython",
    "version": 2
   },
   "file_extension": ".py",
   "mimetype": "text/x-python",
   "name": "python",
   "nbconvert_exporter": "python",
   "pygments_lexer": "ipython2",
   "version": "2.7.6"
  }
 },
 "nbformat": 4,
 "nbformat_minor": 0
}
